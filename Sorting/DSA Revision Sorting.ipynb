{
 "cells": [
  {
   "cell_type": "code",
   "execution_count": 4,
   "id": "18df0017-c6b0-421c-bdc1-ddae52817da2",
   "metadata": {},
   "outputs": [],
   "source": [
    "#Bubble Sort\n",
    "\n",
    "array=[13, 56, 12, 67, 78, 89, 23, 92, 56, 34]\n"
   ]
  },
  {
   "cell_type": "code",
   "execution_count": 5,
   "id": "ff9fd159-a08d-46c7-a0e3-586a5bde5e9f",
   "metadata": {},
   "outputs": [],
   "source": [
    "for i in range(len(arr)):\n",
    "    for j in range(0, len(array) - i - 1):\n",
    "\n",
    "\n",
    "      if array[j] > array[j + 1]:\n",
    "\n",
    "        # swapping elements if elements\n",
    "        # are not in the intended order\n",
    "        temp = array[j]\n",
    "        array[j] = array[j+1]\n",
    "        array[j+1] = temp"
   ]
  },
  {
   "cell_type": "code",
   "execution_count": 6,
   "id": "fdb7298b-8537-4175-8aa8-4e3ab5d41375",
   "metadata": {},
   "outputs": [
    {
     "data": {
      "text/plain": [
       "[12, 13, 23, 34, 56, 56, 67, 78, 89, 92]"
      ]
     },
     "execution_count": 6,
     "metadata": {},
     "output_type": "execute_result"
    }
   ],
   "source": [
    "array"
   ]
  },
  {
   "cell_type": "code",
   "execution_count": null,
   "id": "fc26a24a-f008-4137-aa10-16f2ba4ac8e6",
   "metadata": {},
   "outputs": [],
   "source": []
  }
 ],
 "metadata": {
  "kernelspec": {
   "display_name": "Python 3 (ipykernel)",
   "language": "python",
   "name": "python3"
  },
  "language_info": {
   "codemirror_mode": {
    "name": "ipython",
    "version": 3
   },
   "file_extension": ".py",
   "mimetype": "text/x-python",
   "name": "python",
   "nbconvert_exporter": "python",
   "pygments_lexer": "ipython3",
   "version": "3.11.7"
  }
 },
 "nbformat": 4,
 "nbformat_minor": 5
}
