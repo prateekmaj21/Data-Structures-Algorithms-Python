{
  "nbformat": 4,
  "nbformat_minor": 0,
  "metadata": {
    "colab": {
      "provenance": []
    },
    "kernelspec": {
      "name": "python3",
      "display_name": "Python 3"
    },
    "language_info": {
      "name": "python"
    }
  },
  "cells": [
    {
      "cell_type": "code",
      "execution_count": 5,
      "metadata": {
        "colab": {
          "base_uri": "https://localhost:8080/"
        },
        "id": "UeZA30QtprF-",
        "outputId": "f1e180b3-2f99-48bd-e610-1223fb950dc6"
      },
      "outputs": [
        {
          "output_type": "stream",
          "name": "stdout",
          "text": [
            "[101, 111, 121, 131, 141, 151, 161, 171, 181, 191]\n",
            "Enter the number to search: 141\n",
            "The element is found at index: 4\n"
          ]
        }
      ],
      "source": [
        "#Solution for Binary Search:\n",
        "array = [101,111, 121, 131, 141, 151, 161, 171, 181, 191]\n",
        "print(array)\n",
        "\n",
        "element = int(input(\"Enter the number to search: \"))\n",
        "\n",
        "sub_array = array\n",
        "\n",
        "index_lst = [i for i in range(len(array))]\n",
        "start = 0\n",
        "\n",
        "end = len(sub_array)\n",
        "\n",
        "flag = False\n",
        "\n",
        "while len(sub_array) >= 1:\n",
        "  start = 0 #Add this\n",
        "  end = len(sub_array) #Add this\n",
        "  mid = (start + end) // 2\n",
        "  if sub_array[mid] > element:\n",
        "    start=0\n",
        "    end = mid\n",
        "  elif sub_array[mid] < element:\n",
        "    start = mid+1\n",
        "    end=len(sub_array)\n",
        "  else:\n",
        "    flag = True\n",
        "    index = index_lst[mid]\n",
        "    break\n",
        "  sub_array = sub_array[start:end]#Change array into sub_array\n",
        "  index_lst = index_lst[start:end]\n",
        "\n",
        "if flag:\n",
        "    print(\"The element is found at index:\", index)\n",
        "else:\n",
        "    print(\"The element is not present\")\n"
      ]
    }
  ]
}