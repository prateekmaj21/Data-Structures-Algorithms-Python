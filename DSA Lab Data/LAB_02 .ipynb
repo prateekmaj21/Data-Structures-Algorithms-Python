{
  "nbformat": 4,
  "nbformat_minor": 0,
  "metadata": {
    "colab": {
      "provenance": []
    },
    "kernelspec": {
      "name": "python3",
      "display_name": "Python 3"
    },
    "language_info": {
      "name": "python"
    }
  },
  "cells": [
    {
      "cell_type": "markdown",
      "source": [
        "No. 02 - Practice Problems: Searching and Sorting"
      ],
      "metadata": {
        "id": "z5vP9oliHcQF"
      }
    },
    {
      "cell_type": "markdown",
      "source": [
        "**A.Take a randomly generated array and sort it is using bubble sort. Then find an element using binary search. **"
      ],
      "metadata": {
        "id": "Yq1-FGjMHegV"
      }
    },
    {
      "cell_type": "code",
      "source": [
        "#Solution for bubble sort:\n",
        "array = [11,87,10,9,8,7,4]\n",
        "\n",
        "for i in range(len(array)-1):\n",
        "\n",
        "    for j in range(len(array)-i-1):# After each pass, the largest element will have bubbled up to the end of the array, so there's no need to compare it again.\n",
        "\n",
        "        ele1 = array[j]\n",
        "\n",
        "        ele2 = array[j+1]\n",
        "\n",
        "        # If the element is larger than the next swap\n",
        "\n",
        "        if ele1>ele2:\n",
        "\n",
        "            array[j]=ele2\n",
        "\n",
        "            array[j+1]=ele1\n",
        "\n",
        "\n",
        "\n",
        "print(\"Sorted Array:\",array)\n",
        "\n"
      ],
      "metadata": {
        "colab": {
          "base_uri": "https://localhost:8080/"
        },
        "id": "71i0UCb9Hnqc",
        "outputId": "db74a033-7c65-414d-a27a-c4517612d1c0"
      },
      "execution_count": 1,
      "outputs": [
        {
          "output_type": "stream",
          "name": "stdout",
          "text": [
            "Sorted Array: [4, 7, 8, 9, 10, 11, 87]\n"
          ]
        }
      ]
    },
    {
      "cell_type": "markdown",
      "source": [
        "**Implementation of the “Insertion, Selection Sort & Binary Search” Algorithm to create a program in C/python**"
      ],
      "metadata": {
        "id": "fB-aE_dPKUjQ"
      }
    },
    {
      "cell_type": "code",
      "source": [
        "#Solution for Binary Search:\n",
        "array = [101,111, 121, 131, 141, 151, 161, 171, 181, 191]\n",
        "\n",
        "print(array)\n",
        "\n",
        "element = int(input(\"Enter the number to search: \"))\n",
        "\n",
        "sub_array = array #as a reference to array\n",
        "\n",
        "index_lst = [i for i in range(len(array))] # a list index_lst containing the indices of the elements in the original array\n",
        "\n",
        "start = 0\n",
        "\n",
        "end = len(sub_array)\n",
        "\n",
        "flag = False\n",
        "\n",
        "while len(sub_array) >= 1:\n",
        "    mid = (start + end) // 2\n",
        "    if sub_array[mid] > element:#selecting 1st half\n",
        "        end = mid\n",
        "    elif sub_array[mid] < element:#selecting the 2nd half\n",
        "        start = mid + 1\n",
        "    else:#Element Found\n",
        "        flag = True\n",
        "        index = index_lst[mid]\n",
        "        break\n",
        "\n",
        "    sub_array = array[start:end]#New Array based on selected half list\n",
        "    index_lst = index_lst[start:end]\n",
        "\n",
        "if flag:\n",
        "    print(\"The element is found at index:\", index)\n",
        "else:\n",
        "    print(\"The element is not present\")\n"
      ],
      "metadata": {
        "colab": {
          "base_uri": "https://localhost:8080/"
        },
        "id": "PwsHaNoAnma2",
        "outputId": "1776eb7a-6e0f-4bf8-8c8b-e5e4e0358476"
      },
      "execution_count": null,
      "outputs": [
        {
          "output_type": "stream",
          "name": "stdout",
          "text": [
            "[101, 111, 121, 131, 141, 151, 161, 171, 181, 191]\n",
            "Enter the number to search: 121\n",
            "The element is found at index: 2\n"
          ]
        }
      ]
    },
    {
      "cell_type": "code",
      "source": [
        "#Solution for Selection Sort\n",
        "array = [10, 1, 9, 7, 5, 4, 3, 2, 6]\n",
        "\n",
        "print(\"Input Array:\", array)\n",
        "\n",
        "for i in range(len(array)):\n",
        "    min_index = i\n",
        "    for j in range(i + 1, len(array)):#find minimum element in the unsorted part of the array\n",
        "        if array[min_index] > array[j]:\n",
        "            min_index = j\n",
        "    # Swap the minimum element with the current element\n",
        "    array[i], array[min_index] = array[min_index], array[i]\n",
        "\n",
        "print(\"Sorted Output Array:\", array)\n"
      ],
      "metadata": {
        "colab": {
          "base_uri": "https://localhost:8080/"
        },
        "id": "HP586tuRKoOv",
        "outputId": "f6ad7e7f-a667-4603-a266-10475fd69c3b"
      },
      "execution_count": null,
      "outputs": [
        {
          "output_type": "stream",
          "name": "stdout",
          "text": [
            "Input Array: [10, 1, 9, 7, 5, 4, 3, 2, 6]\n",
            "Sorted Output Array: [1, 2, 3, 4, 5, 6, 7, 9, 10]\n"
          ]
        }
      ]
    },
    {
      "cell_type": "code",
      "source": [
        "#Solution for Insertion Sort:\n",
        "array = [5,8,1,2]\n",
        "\n",
        "print(\"Input Array:\", array)\n",
        "\n",
        "for i in range(1, len(array)):\n",
        "    key = array[i]\n",
        "    j = i - 1\n",
        "    while j >= 0 and key < array[j]:\n",
        "        array[j + 1] = array[j]\n",
        "        array[j] = key\n",
        "        key = array[j]\n",
        "        j = j - 1\n",
        "\n",
        "print(\"Sorted Output Array:\", array)\n"
      ],
      "metadata": {
        "colab": {
          "base_uri": "https://localhost:8080/"
        },
        "id": "wzDB-ooGJ9SQ",
        "outputId": "f4fc921c-7bf7-4cc3-88c6-7cc02ca0ecb1"
      },
      "execution_count": null,
      "outputs": [
        {
          "output_type": "stream",
          "name": "stdout",
          "text": [
            "Input Array: [5, 8, 1, 2]\n",
            "Sorted Output Array: [1, 2, 5, 8]\n"
          ]
        }
      ]
    },
    {
      "cell_type": "markdown",
      "source": [
        "Optional/ Take Home:  \n",
        "\n",
        "C.Take a randomly generated array and sort it using insertion sort. Then find an element using binary search.\n",
        "\n",
        "D.Take a randomly generated array and sort it using selection sort. Then find an element using binary search.\n",
        "\n",
        "E.Take a randomly generated array and reverse-sort it using insertion sort. Then find an element using binary search.\n",
        "\n",
        "F.Take a randomly generated array and reverse-sort it is using bubble sort. Then find an element using linear search.\n",
        "\n"
      ],
      "metadata": {
        "id": "VkEOzvDDl3MP"
      }
    }
  ]
}