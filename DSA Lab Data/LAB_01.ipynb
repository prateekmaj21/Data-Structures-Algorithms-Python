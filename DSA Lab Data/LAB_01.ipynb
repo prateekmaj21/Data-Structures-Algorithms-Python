{
  "nbformat": 4,
  "nbformat_minor": 0,
  "metadata": {
    "colab": {
      "provenance": []
    },
    "kernelspec": {
      "name": "python3",
      "display_name": "Python 3"
    },
    "language_info": {
      "name": "python"
    }
  },
  "cells": [
    {
      "cell_type": "markdown",
      "source": [
        "**No. 01 - Practice Problems: Hands on Array **"
      ],
      "metadata": {
        "id": "eGLr3InLnEYI"
      }
    },
    {
      "cell_type": "markdown",
      "source": [
        "Implement 2D Array, matrix, matrix multiplication."
      ],
      "metadata": {
        "id": "8IaYFRgMmQae"
      }
    },
    {
      "cell_type": "code",
      "source": [
        "#Solution for 2D Array implementation\n",
        "#Taking no of rows and columns as inputs from the user\n",
        "\n",
        "rows = int(input(\"Enter the number of rows: \"))\n",
        "\n",
        "columns = int(input(\"Enter the number of columns: \"))\n",
        "\n",
        "lst = [] # For storing the elements in matrix form\n",
        "\n",
        "for i in range(rows):\n",
        "\n",
        "    l1 = []\n",
        "\n",
        "    for j in range(columns):\n",
        "\n",
        "        val = input(\"Enter the  number: \")\n",
        "\n",
        "        l1.append(int(val))\n",
        "\n",
        "\n",
        "\n",
        "    lst.append(l1)\n",
        "\n",
        "\n",
        "\n",
        "print(lst)\n",
        "\n"
      ],
      "metadata": {
        "colab": {
          "base_uri": "https://localhost:8080/"
        },
        "id": "Q_jT33e4mSKD",
        "outputId": "3e121e58-708c-40bc-df2c-a3b7f7a6a982"
      },
      "execution_count": null,
      "outputs": [
        {
          "output_type": "stream",
          "name": "stdout",
          "text": [
            "Enter the number of rows: 2\n",
            "Enter the number of columns: 2\n",
            "Enter the  number: 1\n",
            "Enter the  number: 2\n",
            "Enter the  number: 3\n",
            "Enter the  number: 4\n",
            "[[1, 2], [3, 4]]\n"
          ]
        }
      ]
    },
    {
      "cell_type": "code",
      "source": [
        "#Solution for 2D Matrix multiplication\n",
        "# Define matrix of any shape\n",
        "\n",
        "arr1 = [[1,2,3], [4,5,6]]\n",
        "\n",
        "arr2 = [[10,11], [20,21], [30,31]]\n",
        "\n",
        "result = [] # To store final matrix result\n",
        "\n",
        "# Checking whether both the matrixs are multiplicable\n",
        "#print(len(arr1))\n",
        "#print(arr1[0])\n",
        "#print(len(arr2))\n",
        "if len(arr1[0]) == len(arr2): # if no of columns of matrix 1 is equal to no of rows of matrix 2, proceed\n",
        "\n",
        "    for i in range(len(arr1)):\n",
        "\n",
        "        row = []\n",
        "\n",
        "        l1 = arr1[i] # Storing each row of matrix 1 in list form\n",
        "\n",
        "        for j in range(len(arr2[0])):\n",
        "\n",
        "            f = 0\n",
        "\n",
        "            l2 = [arr2[k][j] for k in range(len(arr2))] # Storing each column of matrix 2 in list form\n",
        "            #print(\"l2=\",l2)\n",
        "\n",
        "            # multiple both the list point wise and add\n",
        "\n",
        "            for z in range(len(l1)):\n",
        "\n",
        "                p = l1[z] * l2[z]\n",
        "\n",
        "                f += p\n",
        "\n",
        "            row.append(f)\n",
        "\n",
        "        result.append(row)\n",
        "    print(result) # displaying the result\n",
        "\n",
        "else:\n",
        "\n",
        "    print(\"Can't be multiplied\")"
      ],
      "metadata": {
        "id": "5pPY7Hktm7fm",
        "colab": {
          "base_uri": "https://localhost:8080/"
        },
        "outputId": "49bb392a-d0bc-49c9-e15d-ee93424b1f75"
      },
      "execution_count": 2,
      "outputs": [
        {
          "output_type": "stream",
          "name": "stdout",
          "text": [
            "3\n",
            "[[140, 146], [320, 335]]\n"
          ]
        }
      ]
    },
    {
      "cell_type": "markdown",
      "source": [
        "Implement effective way of sparse matrix representation and find transpose of a Sparse Matrix representation.\n"
      ],
      "metadata": {
        "id": "Rh8-EpqGoB-H"
      }
    },
    {
      "cell_type": "code",
      "source": [
        "#Solution for sparse matrix representation\n",
        "# Define matrix of any shape\n",
        "\n",
        "sparse_matrix = [[0,0,0,0,3,0],\n",
        "\n",
        "                 \t      [0,1,0,0,0,0],\n",
        "\n",
        "                 \t      [0,0,0,4,0,0],\n",
        "\n",
        "                \t      [99,0,0,0,0,8],\n",
        "\n",
        "                \t      [0,0,0,0,0,10]]\n",
        "\n",
        "counter =0\n",
        "\n",
        "representation = []\n",
        "\n",
        "rows = len(sparse_matrix)\n",
        "\n",
        "columns = len(sparse_matrix[0])\n",
        "\n",
        "for i in range(rows):\n",
        "\n",
        "    for j in range(columns):\n",
        "\n",
        "        if sparse_matrix[i][j]!=0: # checking for the non zero values\n",
        "         counter +=1\n",
        "         lst = [i,j,sparse_matrix[i][j]] # storing that value  along with its indexes\n",
        "\n",
        "         representation.append(lst)\n",
        "representation.insert(0,[rows,columns,counter])\n",
        "\n",
        "print(representation)\n"
      ],
      "metadata": {
        "colab": {
          "base_uri": "https://localhost:8080/"
        },
        "id": "036jvIpZn8H3",
        "outputId": "b25ee270-59e2-462e-c030-0395700216aa"
      },
      "execution_count": null,
      "outputs": [
        {
          "output_type": "stream",
          "name": "stdout",
          "text": [
            "[[5, 6, 6], [0, 4, 3], [1, 1, 1], [2, 3, 4], [3, 0, 99], [3, 5, 8], [4, 5, 10]]\n"
          ]
        }
      ]
    },
    {
      "cell_type": "code",
      "source": [
        "def transpose_sparse_matrix(sparse_matrix):\n",
        "  \"\"\"\n",
        "  Finds the transpose of a sparse matrix represented as a dictionary.\n",
        "\n",
        "  Args:\n",
        "      sparse_matrix: A dictionary where keys are tuples (row, col) and values are non-zero elements.\n",
        "\n",
        "  Returns:\n",
        "      A dictionary representing the transpose of the sparse matrix.\n",
        "  \"\"\"\n",
        "\n",
        "  transpose = {}\n",
        "  for (row, col), value in sparse_matrix.items():\n",
        "    # Swap row and column for transpose\n",
        "    transpose[(col, row)] = value\n",
        "\n",
        "  return transpose\n",
        "\n",
        "# Example usage:\n",
        "sparse_matrix = {\n",
        "  (0, 1): 2,\n",
        "  (2, 0): 5,\n",
        "  (3, 2): 1\n",
        "}\n",
        "\n",
        "transpose_matrix = transpose_sparse_matrix(sparse_matrix)\n",
        "\n",
        "print(\"Original Sparse Matrix:\")\n",
        "for (row, col), value in sparse_matrix.items():\n",
        "  print(f\"({row}, {col}): {value}\")\n",
        "\n",
        "print(\"\\nTranspose Sparse Matrix:\")\n",
        "for (row, col), value in transpose_matrix.items():\n",
        "  print(f\"({row}, {col}): {value}\")\n"
      ],
      "metadata": {
        "colab": {
          "base_uri": "https://localhost:8080/"
        },
        "id": "ZY7LJU0rDjwv",
        "outputId": "682c9cbd-2d1f-4a7c-d2b2-12e157672f1c"
      },
      "execution_count": null,
      "outputs": [
        {
          "output_type": "stream",
          "name": "stdout",
          "text": [
            "Original Sparse Matrix:\n",
            "(0, 1): 2\n",
            "(2, 0): 5\n",
            "(3, 2): 1\n",
            "\n",
            "Transpose Sparse Matrix:\n",
            "(1, 0): 2\n",
            "(0, 2): 5\n",
            "(2, 3): 1\n"
          ]
        }
      ]
    },
    {
      "cell_type": "markdown",
      "source": [
        "**C.Implement To store a polynomial expression using array. **\n"
      ],
      "metadata": {
        "id": "hiXBm_XXDGVk"
      }
    },
    {
      "cell_type": "code",
      "source": [
        "n = int(input(\"Enter the largest exponent of the polynomial: \"))\n",
        "\n",
        "coef_lst = []\n",
        "\n",
        "for i in range(n + 1):  #x^0--c\n",
        "\n",
        "    c = int(input(\"Enter the coefficient for exponent {}: \".format(i)))\n",
        "\n",
        "    coef_lst.append(c)\n",
        "\n",
        "poly = ''\n",
        "\n",
        "for i in range(n + 1):\n",
        "    if coef_lst[i] != 0:\n",
        "        if i == 0: #one coefficient\n",
        "            poly += str(coef_lst[i])\n",
        "        else:\n",
        "            poly += str(coef_lst[i]) + 'x^' + str(i)\n",
        "        poly += '+'\n",
        "\n",
        "# Remove the trailing '+' and add ' ' at the end\n",
        "poly = poly[:-1]\n",
        "\n",
        "print(\"Polynomial expression:\", poly)\n"
      ],
      "metadata": {
        "colab": {
          "base_uri": "https://localhost:8080/"
        },
        "id": "UwXR6U0WC_mh",
        "outputId": "b0ba56e4-3125-4932-d293-f14db2f59e5f"
      },
      "execution_count": 4,
      "outputs": [
        {
          "output_type": "stream",
          "name": "stdout",
          "text": [
            "Enter the largest exponent of the polynomial: 2\n",
            "Enter the coefficient for exponent 0: 4\n",
            "Enter the coefficient for exponent 1: 7\n",
            "Enter the coefficient for exponent 2: 2\n",
            "Polynomial expression: 4+7x^1+2x^2\n"
          ]
        }
      ]
    },
    {
      "cell_type": "markdown",
      "source": [
        "Write a program for implementing the following techniques using array.\n",
        "i.Maximum number in an array.\n",
        "ii.Linear Search\n",
        "iii.Fibonacci Series"
      ],
      "metadata": {
        "id": "em8dTfQtD63b"
      }
    },
    {
      "cell_type": "code",
      "source": [
        "#Solution for finding maximum number in an array:\n",
        "\n",
        "# Define an array\n",
        "\n",
        "lst = [1,2,3,5,100]\n",
        "\n",
        "ele1 = lst[0]\n",
        "\n",
        "for i in range(1,len(lst)):\n",
        "\n",
        "    if ele1<=lst[i]:\n",
        "\n",
        "        ele1= lst[i]\n",
        "\n",
        "\n",
        "\n",
        "print(\"The maximum number in the array is \",ele1)"
      ],
      "metadata": {
        "colab": {
          "base_uri": "https://localhost:8080/"
        },
        "id": "f8H6ZfQpD6EI",
        "outputId": "d77354f1-2c3f-4815-c4d6-45cc512914de"
      },
      "execution_count": null,
      "outputs": [
        {
          "output_type": "stream",
          "name": "stdout",
          "text": [
            "The maximum number in the array is  100\n"
          ]
        }
      ]
    },
    {
      "cell_type": "code",
      "source": [
        "#Solution for linear search:\n",
        "\n",
        "lst = [1,2,3,4,5,6,7,8,10]\n",
        "\n",
        "num = int(input(\"Enter the number to search: \"))\n",
        "\n",
        "flag=False\n",
        "\n",
        "index = 0\n",
        "\n",
        "for i in range(len(lst)):\n",
        "\n",
        "    if lst[i]==num:\n",
        "\n",
        "        flag=True\n",
        "\n",
        "        index = i\n",
        "\n",
        "        break\n",
        "if flag:\n",
        "\n",
        "    print(\"The number is found at index: \",index)\n",
        "else:\n",
        "\n",
        "    print(\"The number is not found\")"
      ],
      "metadata": {
        "colab": {
          "base_uri": "https://localhost:8080/"
        },
        "id": "0dCulabjEIZy",
        "outputId": "c85cbc30-569b-4cf0-84d1-b649501f65dd"
      },
      "execution_count": null,
      "outputs": [
        {
          "output_type": "stream",
          "name": "stdout",
          "text": [
            "Enter the number to search: 4\n",
            "The number is found at index:  3\n"
          ]
        }
      ]
    },
    {
      "cell_type": "code",
      "source": [
        "#Solution for Fibonacci series:\n",
        "\n",
        "n= int(input(\"How  many numbers you want to print?\"))\n",
        "\n",
        "a,b,i=0,1,2\n",
        "\n",
        "if n==1:\n",
        "\n",
        "    print(a)\n",
        "\n",
        "elif n>1:\n",
        "\n",
        "    print(a)\n",
        "\n",
        "    print(b)\n",
        "\n",
        "    while i<n:\n",
        "\n",
        "        c = a + b\n",
        "\n",
        "        print(c)\n",
        "\n",
        "        a = b\n",
        "\n",
        "        b = c\n",
        "\n",
        "        i+=1\n",
        "\n",
        "else:\n",
        "\n",
        "    print(\"Invalid number\")"
      ],
      "metadata": {
        "colab": {
          "base_uri": "https://localhost:8080/"
        },
        "id": "55CNTItIEStB",
        "outputId": "55eaffc3-ae94-44d8-be68-76815f93e943"
      },
      "execution_count": null,
      "outputs": [
        {
          "output_type": "stream",
          "name": "stdout",
          "text": [
            "How  many numbers you want to print?2\n",
            "0\n",
            "1\n"
          ]
        }
      ]
    }
  ]
}